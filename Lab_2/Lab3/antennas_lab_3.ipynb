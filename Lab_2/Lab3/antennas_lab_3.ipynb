{
 "cells": [
  {
   "cell_type": "code",
   "execution_count": 2,
   "id": "initial_id",
   "metadata": {
    "collapsed": true,
    "ExecuteTime": {
     "end_time": "2024-11-14T08:51:37.767179300Z",
     "start_time": "2024-11-14T08:51:35.576530Z"
    }
   },
   "outputs": [],
   "source": [
    "import numpy as np\n",
    "from scipy.interpolate import interp1d"
   ]
  },
  {
   "cell_type": "code",
   "execution_count": 3,
   "outputs": [],
   "source": [
    "wavelength = 3.2e-02  # Довжина хвилі в метрах\n",
    "a_r = 13e-02   # Розмір рупора по осі a в метрах\n",
    "b_r = 13e-02   # Розмір рупора по осі b в метрах\n",
    "theta = np.arange(0.01, np.pi / 2, 0.01)  # Кути theta для розрахунків"
   ],
   "metadata": {
    "collapsed": false,
    "ExecuteTime": {
     "end_time": "2024-11-14T08:51:38.348979700Z",
     "start_time": "2024-11-14T08:51:38.343461200Z"
    }
   },
   "id": "a6d1540855a3941e"
  },
  {
   "cell_type": "code",
   "execution_count": 4,
   "outputs": [],
   "source": [
    "#Векторні обчислення\n",
    "def calculate_FH(theta, wavelength, a_r):\n",
    "    F1h = abs((1 + np.cos(theta)) / 2)\n",
    "    FC = abs(np.cos((np.pi * a_r * np.sin(theta)) / wavelength) / \n",
    "             (1 - ((2 * a_r * np.sin(theta)) / wavelength)**2))\n",
    "    FH = F1h * FC\n",
    "    return F1h, FC, FH\n",
    "\n",
    "def calculate_FE(theta, wavelength, b_r):\n",
    "    F1e = abs((1 + np.cos(theta)) / 2)\n",
    "    FC = abs(np.sin((np.pi * b_r * np.sin(theta)) / wavelength) / \n",
    "             ((np.pi * b_r * np.sin(theta)) / wavelength))\n",
    "    FE = F1e * FC\n",
    "    return F1e, FC, FE"
   ],
   "metadata": {
    "collapsed": false,
    "ExecuteTime": {
     "end_time": "2024-11-14T08:51:38.943223900Z",
     "start_time": "2024-11-14T08:51:38.935223800Z"
    }
   },
   "id": "fe85b79a3b5a67e3"
  },
  {
   "cell_type": "code",
   "execution_count": 5,
   "outputs": [],
   "source": [
    "#Площини H та E\n",
    "F1h, FC_H, FH = calculate_FH(theta, wavelength, a_r)\n",
    "F1e, FC_E, FE = calculate_FE(theta, wavelength, b_r)"
   ],
   "metadata": {
    "collapsed": false,
    "ExecuteTime": {
     "end_time": "2024-11-14T08:51:39.544319300Z",
     "start_time": "2024-11-14T08:51:39.536586300Z"
    }
   },
   "id": "dfbbbff980c1c453"
  },
  {
   "cell_type": "code",
   "execution_count": 6,
   "outputs": [],
   "source": [
    "#Інтерполюємо для точного визначення ширини головної пелюстки\n",
    "interp_FH = interp1d(FH, theta, kind='linear', bounds_error=False, fill_value='extrapolate')\n",
    "interp_FE = interp1d(FE, theta, kind='linear', bounds_error=False, fill_value='extrapolate')"
   ],
   "metadata": {
    "collapsed": false,
    "ExecuteTime": {
     "end_time": "2024-11-14T08:51:40.054349300Z",
     "start_time": "2024-11-14T08:51:40.045825300Z"
    }
   },
   "id": "d78d9026cc374580"
  },
  {
   "cell_type": "code",
   "execution_count": 7,
   "outputs": [],
   "source": [
    "#Ширина головної пелюстки\n",
    "SGP1 = 2 * np.degrees(interp_FH(0.707))\n",
    "SGP2 = 2 * np.degrees(interp_FE(0.707))"
   ],
   "metadata": {
    "collapsed": false,
    "ExecuteTime": {
     "end_time": "2024-11-14T08:51:40.500437400Z",
     "start_time": "2024-11-14T08:51:40.477384100Z"
    }
   },
   "id": "82c13e1a7cd23665"
  },
  {
   "cell_type": "code",
   "execution_count": 9,
   "outputs": [
    {
     "name": "stdout",
     "output_type": "stream",
     "text": [
      "Значення нульових кутів в площині H: 21.77, 37.82, 59.59 °\n",
      "Значення нульових кутів в площині E: 14.32, 29.22, 47.56, 80.21 °\n"
     ]
    }
   ],
   "source": [
    "# Векторне знаходження максимумів та мінімумів\n",
    "def find_peaks_and_troughs(F, theta):\n",
    "    # Обчислюємо різниці між сусідніми значеннями\n",
    "    d_F = np.diff(F)\n",
    "    \n",
    "    # Знаходимо індекси максимумів: де різниця змінюється з позитивної на негативну\n",
    "    peaks_idx = np.where((d_F[:-1] > 0) & (d_F[1:] < 0))[0] + 1\n",
    "    \n",
    "    # Знаходимо індекси мінімумів: де різниця змінюється з негативної на позитивну\n",
    "    troughs_idx = np.where((d_F[:-1] < 0) & (d_F[1:] > 0))[0] + 1\n",
    "    \n",
    "    # Перетворюємо індекси на кути θ та відповідні значення функції\n",
    "    peaks_x = np.round(np.degrees(theta[peaks_idx]), 2)\n",
    "    peaks_y = F[peaks_idx]\n",
    "    troughs_x = np.round(np.degrees(theta[troughs_idx]), 2)\n",
    "    troughs_y = np.zeros_like(troughs_x)\n",
    "    \n",
    "    return peaks_x, peaks_y, troughs_x, troughs_y\n",
    "\n",
    "# Знаходимо максимуми і мінімуми для площин H та E\n",
    "max_x_FH, max_y_FH, min_x_FH, min_y_FH = find_peaks_and_troughs(FH, theta)\n",
    "max_x_FE, max_y_FE, min_x_FE, min_y_FE = find_peaks_and_troughs(FE, theta)\n",
    "\n",
    "print(f\"Значення нульових кутів в площині H: {', '.join(map(str, min_x_FH))} \\u00b0\")\n",
    "print(f\"Значення нульових кутів в площині E: {', '.join(map(str, min_x_FE))} \\u00b0\")"
   ],
   "metadata": {
    "collapsed": false,
    "ExecuteTime": {
     "end_time": "2024-11-14T08:52:57.860841500Z",
     "start_time": "2024-11-14T08:52:57.855460Z"
    }
   },
   "id": "f53e321c44711e31"
  },
  {
   "cell_type": "code",
   "execution_count": null,
   "outputs": [],
   "source": [],
   "metadata": {
    "collapsed": false
   },
   "id": "e78efc48fb4b3654"
  }
 ],
 "metadata": {
  "kernelspec": {
   "display_name": "Python 3",
   "language": "python",
   "name": "python3"
  },
  "language_info": {
   "codemirror_mode": {
    "name": "ipython",
    "version": 2
   },
   "file_extension": ".py",
   "mimetype": "text/x-python",
   "name": "python",
   "nbconvert_exporter": "python",
   "pygments_lexer": "ipython2",
   "version": "2.7.6"
  }
 },
 "nbformat": 4,
 "nbformat_minor": 5
}

{
 "cells": [
  {
   "cell_type": "markdown",
   "source": [
    "Нестеров Владислав, 569МН група, Варіант 8\n",
    "Частота f[МГц] = 560\n",
    "Число елементів антени N = 9"
   ],
   "metadata": {
    "collapsed": false
   },
   "id": "7ba8f39aaa99c834"
  },
  {
   "cell_type": "code",
   "execution_count": null,
   "outputs": [],
   "source": [],
   "metadata": {
    "collapsed": false
   },
   "id": "cd70cc6685b0c1ed"
  }
 ],
 "metadata": {
  "kernelspec": {
   "display_name": "Python 3",
   "language": "python",
   "name": "python3"
  },
  "language_info": {
   "codemirror_mode": {
    "name": "ipython",
    "version": 2
   },
   "file_extension": ".py",
   "mimetype": "text/x-python",
   "name": "python",
   "nbconvert_exporter": "python",
   "pygments_lexer": "ipython2",
   "version": "2.7.6"
  }
 },
 "nbformat": 4,
 "nbformat_minor": 5
}

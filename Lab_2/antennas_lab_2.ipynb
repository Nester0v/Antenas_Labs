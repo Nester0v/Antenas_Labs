{
 "cells": [
  {
   "cell_type": "markdown",
   "source": [
    "Нестеров Владислав, 569МН група, Варіант 8\n",
    "Частота f[МГц] = 560\n",
    "Число елементів антени N = 9"
   ],
   "metadata": {
    "collapsed": false
   },
   "id": "7ba8f39aaa99c834"
  },
  {
   "cell_type": "code",
   "execution_count": null,
   "outputs": [],
   "source": [
    "import numpy as np\n",
    "import matplotlib.pyplot as plt\n",
    "from scipy.signal import find_peaks\n",
    "from scipy.interpolate import interp1d\n",
    "from scipy.constants import c as light_speed"
   ],
   "metadata": {
    "collapsed": false
   },
   "id": "cd70cc6685b0c1ed"
  },
  {
   "cell_type": "code",
   "execution_count": null,
   "outputs": [],
   "source": [
    "FC = [1] # ДС антени в площині Н\n",
    "FE = [1] # ДС антени в площині Е\n",
    "F1E = [1] # ДС напівхвильового вібратора в площині Е\n",
    "\n",
    "steps = [0] # кути θ\n",
    "SGP1 = 0 # Ширина головної пелюстки в площині FH\n",
    "SGP2 = 0 # Ширина головної пелюстки в площині FE"
   ],
   "metadata": {
    "collapsed": false
   },
   "id": "18f44ba4c6940898"
  },
  {
   "cell_type": "code",
   "execution_count": null,
   "outputs": [],
   "source": [
    "N = 9 # Кількість елементів антени\n",
    "F = 560e6 # Частота переведена в Гц\n",
    "\n",
    "wavelength = round(light_speed / F, 4)\n",
    "dcp = round(0.25 * wavelength, 4) \n",
    "k = round((2 * np.pi) / wavelength, 4) \n",
    "\n",
    "print(f\"λ = {wavelength} m\")\n",
    "print(f\"dcp = {dcp} m\")\n",
    "print(f\"k = {k} rad/m\")"
   ],
   "metadata": {
    "collapsed": false
   },
   "id": "474e460ff771fbba"
  },
  {
   "cell_type": "code",
   "execution_count": null,
   "outputs": [],
   "source": [
    "# Обчислюємо кути θ векторизовано, попередньо обмеживши значення в межах [-1, 1]\n",
    "m_values = np.arange(1, 11)\n",
    "argument = np.clip(1 - (m_values * wavelength) / (N * dcp), -1, 1)\n",
    "\n",
    "# Обчислюємо кути θ з обмеженими значеннями\n",
    "p_values = np.arccos(argument)\n",
    "\n",
    "# Округлюємо кути\n",
    "theta_min = np.round(np.degrees(p_values[p_values <= np.pi / 2]), 2)\n",
    "\n",
    "# Виводимо мінімальні кути θ\n",
    "for idx, theta in enumerate(theta_min):\n",
    "    print(f\"θ{idx + 1} min = {theta}\\u00b0\")"
   ],
   "metadata": {
    "collapsed": false
   },
   "id": "7753a23d94d7a80b"
  },
  {
   "cell_type": "code",
   "execution_count": null,
   "outputs": [],
   "source": [
    "# Ініціалізація масиву theta\n",
    "theta = np.arange(0.01, np.pi / 2, 0.01)\n",
    "\n",
    "# Обчислення значень ДС\n",
    "mn1 = np.abs(np.cos(np.pi / 2 * np.sin(theta)) / np.cos(theta))\n",
    "mn2 = np.abs(np.sin(N * k * dcp * (1 - np.cos(theta)) / 2) / \n",
    "             (N * np.sin(k * dcp * (1 - np.cos(theta)) / 2)))\n",
    "mn3 = mn1 * mn2\n",
    "\n",
    "# Додаємо обчислені значення в списки\n",
    "F1E.extend(mn1)\n",
    "FC.extend(mn2)\n",
    "FE.extend(mn3)\n",
    "\n",
    "# Інтерполюємо значення mn2 та mn3 для пошуку точних кутів\n",
    "interp_mn2 = interp1d(mn2, theta, kind='linear', bounds_error=False, fill_value='extrapolate')\n",
    "interp_mn3 = interp1d(mn3, theta, kind='linear', bounds_error=False, fill_value='extrapolate')\n",
    "\n",
    "# Шукаємо точні кути, де mn2 та mn3 перетинають 0.707, конвертуємо у градуси та обчислюємо ширину пелюсток\n",
    "SGP1 = np.round(2 * np.degrees(interp_mn2(0.707)), 2)\n",
    "SGP2 = np.round(2 * np.degrees(interp_mn3(0.707)), 2)\n",
    "\n",
    "# Визначення нульових кутів і додавання кутів у список steps\n",
    "Zeros = np.round(np.degrees(theta[mn2 < 0.01]), 2)\n",
    "steps.extend(np.degrees(theta))"
   ],
   "metadata": {
    "collapsed": false
   },
   "id": "f846f52694a553de"
  },
  {
   "cell_type": "code",
   "execution_count": null,
   "outputs": [],
   "source": [
    "peaks_fc, _ = find_peaks(FC)  # Знайдемо індекси максимумів для FC\n",
    "theta_max_fc = np.degrees(theta[peaks_fc])  # Перетворюємо на градуси\n",
    "FC_peaks = np.array(FC)[peaks_fc]  # Значення максимумів для FC\n",
    "\n",
    "# Виводимо значення максимумів\n",
    "for idxE, (thetaH, valueH) in enumerate(zip(theta_max_fc, FC_peaks)):\n",
    "    print(f\"θ_maxH {idxE + 1} = {thetaH:.2f}\\u00b0; значення = {valueH:.3f}\")"
   ],
   "metadata": {
    "collapsed": false
   },
   "id": "26e7d89c99adacf4"
  },
  {
   "cell_type": "code",
   "execution_count": null,
   "outputs": [],
   "source": [
    "peaks_fe, _ = find_peaks(FE)  # Знайдемо індекси максимумів для FE\n",
    "theta_max_fe = np.degrees(theta[peaks_fe])  # Перетворюємо на градуси\n",
    "FE_peaks = np.array(FE)[peaks_fe]  # Значення максимумів для FE\n",
    "\n",
    "# Виводимо значення максимумів\n",
    "for idxE, (thetaE, valueE) in enumerate(zip(theta_max_fe, FE_peaks)):\n",
    "    print(f\"θ_maxE {idxE + 1} = {thetaE:.2f}\\u00b0; значення = {valueE:.3f}\")"
   ],
   "metadata": {
    "collapsed": false
   },
   "id": "b836cee7d0b70edf"
  },
  {
   "cell_type": "code",
   "execution_count": null,
   "outputs": [],
   "source": [
    "plt.figure(figsize = (15, 10))\n",
    "\n",
    "# Побудова графіків ДС\n",
    "plt.plot(steps, F1E, label=\"$ F_{1E}(θ) $\", linestyle=\"solid\", color=\"purple\", linewidth=2)\n",
    "plt.plot(steps, FC, label=\"$ F_{C}(θ) = F_{H}(θ) $\", linestyle=\"solid\", color=\"green\", linewidth=2)\n",
    "plt.plot(steps, FE, label=\"$ F_{E}(θ) $\", linestyle=\"dashed\", color=\"blue\", linewidth=2)\n",
    "\n",
    "# Позначаємо знайдені точки\n",
    "plt.plot(SGP1 / 2, 0.707, marker=\"o\", color='orange', markersize=6, label=\"ШГП в площині FH\")\n",
    "plt.plot(SGP2 / 2, 0.707, marker=\"o\", color='red', markersize=6, label=\"ШГП в площині FE\")\n",
    "\n",
    "# Позначаємо нулі\n",
    "plt.plot(Zeros, [0] * len(Zeros), 'bo')  \n",
    "\n",
    "# Наносимо максимуми на графік\n",
    "plt.plot(theta_max_fc, FC_peaks, \"o\", color = \"orange\", markersize=4, label=\"$ \\\\theta_{max} $ FH\")\n",
    "plt.plot(theta_max_fe, FE_peaks, \"ro\", markersize=4, label=\"$ \\\\theta_{max} $ FE\")\n",
    "\n",
    "# Додаємо вертикальні лінії для точок ШГП\n",
    "plt.vlines(x=SGP1 / 2, ymin=0, ymax=0.707, colors='orange', linestyles='dashed', linewidth=1.3)\n",
    "plt.vlines(x=SGP2 / 2, ymin=0, ymax=0.707, colors='red', linestyles='dashed', linewidth=1.3)\n",
    "\n",
    "# Додаємо вертикальні лінії для точок theta_max_fc\n",
    "for i in range(len(theta_max_fc)):\n",
    "    plt.vlines(x=theta_max_fc[i], ymin=0, ymax=FC_peaks[i], colors='green', linestyles='dashed', linewidth=1)\n",
    "    plt.hlines(y=FC_peaks[i], xmin=0, xmax=theta_max_fc[i], colors='green', linestyles='dashed', linewidth=1)\n",
    "\n",
    "    # Додаємо анотації\n",
    "    plt.annotate(f'({FC_peaks[i]:.2f}, {theta_max_fc[i]:.2f}\\u00b0)', \n",
    "                 xy=(theta_max_fc[i], FC_peaks[i]), \n",
    "                 xytext=(theta_max_fc[i]-1, FC_peaks[i]+0.1), \n",
    "                 arrowprops=dict(arrowstyle='->', color='black'), fontsize=9)\n",
    "    \n",
    "# Додаємо вертикальні лінії для точок theta_max_fe\n",
    "for i in range(len(theta_max_fe)):\n",
    "    plt.vlines(x=theta_max_fe[i], ymin=0, ymax=FE_peaks[i], colors='blue', linestyles='dashed', linewidth=1)\n",
    "    plt.hlines(y=FE_peaks[i], xmin=0, xmax=theta_max_fe[i], colors='blue', linestyles='dashed', linewidth=1)\n",
    "\n",
    "    # Додаємо анотації\n",
    "    plt.annotate(f'({FE_peaks[i]:.2f}, {theta_max_fe[i]:.2f}\\u00b0)', \n",
    "                 xy=(theta_max_fe[i], FE_peaks[i]), \n",
    "                 xytext=(theta_max_fe[i]-12, FE_peaks[i]+0.15), \n",
    "                 arrowprops=dict(arrowstyle='->', color='black'), fontsize=9)\n",
    "\n",
    "# Позначаємо рівень половинної потужності (0.707)\n",
    "plt.axhline(y=0.707, color=\"r\", linestyle=\"dashed\", label=\"Половинна потужності (0.707)\", linewidth=0.7)\n",
    "\n",
    "plt.xlabel(\"θ\" + '\\u00b0', fontsize=12)\n",
    "plt.ylabel(\"$ F_H(θ), F_E(θ) $\", fontsize=12)\n",
    "plt.legend(loc=\"upper right\", fontsize=10)\n",
    "plt.grid(which='both', linestyle='--', linewidth=0.5, color='gray') \n",
    "plt.title(\"Діаграма спрямованості директорної антени\", fontsize=14) \n",
    "\n",
    "# Задаємо розміри клітинок\n",
    "plt.xticks(np.arange(0, 100, 2), fontsize=10)\n",
    "plt.yticks(np.arange(0, 1.2, 0.1), fontsize=10)\n",
    "\n",
    "# Задаємо ліміти відображення\n",
    "plt.ylim(-0.01, 1.01) \n",
    "plt.xlim(0, 90.5) \n",
    "\n",
    "plt.show()"
   ],
   "metadata": {
    "collapsed": false
   },
   "id": "2cdd5c09d0fd515d"
  }
 ],
 "metadata": {
  "kernelspec": {
   "display_name": "Python 3",
   "language": "python",
   "name": "python3"
  },
  "language_info": {
   "codemirror_mode": {
    "name": "ipython",
    "version": 2
   },
   "file_extension": ".py",
   "mimetype": "text/x-python",
   "name": "python",
   "nbconvert_exporter": "python",
   "pygments_lexer": "ipython2",
   "version": "2.7.6"
  }
 },
 "nbformat": 4,
 "nbformat_minor": 5
}

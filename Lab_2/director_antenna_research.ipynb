{
 "cells": [
  {
   "cell_type": "markdown",
   "source": [
    "Нестеров Владислав, 569МН група, Варіант 8"
   ],
   "metadata": {
    "collapsed": false
   },
   "id": "a2a27f43541fa2b6"
  },
  {
   "cell_type": "markdown",
   "source": [
    "Частота f[МГц] = 560\n",
    "Число елементів антени N = 9"
   ],
   "metadata": {
    "collapsed": false
   },
   "id": "a491c846ca62ae9a"
  },
  {
   "cell_type": "code",
   "execution_count": 3,
   "outputs": [],
   "source": [
    "import numpy as np\n",
    "import matplotlib.pyplot as plt\n",
    "from scipy.signal import find_peaks\n",
    "from scipy.interpolate import interp1d\n",
    "from scipy.constants import c as light_speed"
   ],
   "metadata": {
    "collapsed": false,
    "ExecuteTime": {
     "end_time": "2024-10-30T15:22:45.617049700Z",
     "start_time": "2024-10-30T15:22:45.614740200Z"
    }
   },
   "id": "d37b5aae1157022e"
  },
  {
   "cell_type": "code",
   "execution_count": 4,
   "outputs": [],
   "source": [
    "FC = [1] # \"множник грат\" : ДС антени в площині Н\n",
    "FE = [1] # ДС антени в площині Е\n",
    "F1E = [1] # ДС напівхвильового вібратора в площині Е\n",
    "\n",
    "steps = [0] # кути θ\n",
    "SGP1 = 0 # Ширина головної пелюстки в площині FH\n",
    "SGP2 = 0 # Ширина головної пелюстки в площині FE\n",
    "\n",
    "Zeros = [] # нульові кути"
   ],
   "metadata": {
    "collapsed": false,
    "ExecuteTime": {
     "end_time": "2024-10-30T15:22:46.196142500Z",
     "start_time": "2024-10-30T15:22:46.191016200Z"
    }
   },
   "id": "9b18ca279ed7ca64"
  },
  {
   "cell_type": "code",
   "execution_count": 5,
   "outputs": [
    {
     "name": "stdout",
     "output_type": "stream",
     "text": [
      "λ = 0.5353 m\n",
      "dcp = 0.1338 m\n",
      "k = 11.7377 rad/m\n"
     ]
    }
   ],
   "source": [
    "N = 9 # Кількість елементів антени\n",
    "F = 560e6 # Частота переведена в Гц\n",
    "\n",
    "wavelength = round(light_speed / F, 4)\n",
    "dcp = round(0.25 * wavelength, 4) \n",
    "k = round((2 * np.pi) / wavelength, 4) \n",
    "\n",
    "print(f\"λ = {wavelength} m\")\n",
    "print(f\"dcp = {dcp} m\")\n",
    "print(f\"k = {k} rad/m\")"
   ],
   "metadata": {
    "collapsed": false,
    "ExecuteTime": {
     "end_time": "2024-10-30T15:22:46.877910Z",
     "start_time": "2024-10-30T15:22:46.870392100Z"
    }
   },
   "id": "fda41926e1ce1cff"
  },
  {
   "cell_type": "code",
   "execution_count": null,
   "outputs": [],
   "source": [],
   "metadata": {
    "collapsed": false
   },
   "id": "7266988a0d66c276"
  }
 ],
 "metadata": {
  "kernelspec": {
   "display_name": "Python 3",
   "language": "python",
   "name": "python3"
  },
  "language_info": {
   "codemirror_mode": {
    "name": "ipython",
    "version": 2
   },
   "file_extension": ".py",
   "mimetype": "text/x-python",
   "name": "python",
   "nbconvert_exporter": "python",
   "pygments_lexer": "ipython2",
   "version": "2.7.6"
  }
 },
 "nbformat": 4,
 "nbformat_minor": 5
}

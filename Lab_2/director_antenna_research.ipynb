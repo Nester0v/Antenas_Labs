{
 "cells": [
  {
   "cell_type": "markdown",
   "source": [
    "Нестеров Владислав, 569МН група, Варіант 8"
   ],
   "metadata": {
    "collapsed": false
   },
   "id": "a2a27f43541fa2b6"
  },
  {
   "cell_type": "markdown",
   "source": [
    "Частота f[МГц] = 560\n",
    "Число елементів антени N = 9"
   ],
   "metadata": {
    "collapsed": false
   },
   "id": "a491c846ca62ae9a"
  },
  {
   "cell_type": "code",
   "execution_count": null,
   "outputs": [],
   "source": [
    "import numpy as np\n",
    "import matplotlib.pyplot as plt\n",
    "from scipy.signal import find_peaks\n",
    "from scipy.interpolate import interp1d\n",
    "from scipy.constants import c as light_speed"
   ],
   "metadata": {
    "collapsed": false
   },
   "id": "d37b5aae1157022e"
  },
  {
   "cell_type": "code",
   "execution_count": null,
   "outputs": [],
   "source": [],
   "metadata": {
    "collapsed": false
   },
   "id": "9b18ca279ed7ca64"
  }
 ],
 "metadata": {
  "kernelspec": {
   "display_name": "Python 3",
   "language": "python",
   "name": "python3"
  },
  "language_info": {
   "codemirror_mode": {
    "name": "ipython",
    "version": 2
   },
   "file_extension": ".py",
   "mimetype": "text/x-python",
   "name": "python",
   "nbconvert_exporter": "python",
   "pygments_lexer": "ipython2",
   "version": "2.7.6"
  }
 },
 "nbformat": 4,
 "nbformat_minor": 5
}
